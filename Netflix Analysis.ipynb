{
 "cells": [
  {
   "cell_type": "code",
   "execution_count": 66,
   "metadata": {},
   "outputs": [],
   "source": [
    "import pandas as pd\n",
    "import numpy as np\n",
    "from pandas import DataFrame, Series"
   ]
  },
  {
   "cell_type": "code",
   "execution_count": 124,
   "metadata": {},
   "outputs": [],
   "source": [
    "def flatten_list(list):\n",
    "    return [item for sublist in list for item in sublist]"
   ]
  },
  {
   "cell_type": "code",
   "execution_count": 138,
   "metadata": {},
   "outputs": [
    {
     "data": {
      "text/html": [
       "<div>\n",
       "<style scoped>\n",
       "    .dataframe tbody tr th:only-of-type {\n",
       "        vertical-align: middle;\n",
       "    }\n",
       "\n",
       "    .dataframe tbody tr th {\n",
       "        vertical-align: top;\n",
       "    }\n",
       "\n",
       "    .dataframe thead th {\n",
       "        text-align: right;\n",
       "    }\n",
       "</style>\n",
       "<table border=\"1\" class=\"dataframe\">\n",
       "  <thead>\n",
       "    <tr style=\"text-align: right;\">\n",
       "      <th></th>\n",
       "      <th>show_id</th>\n",
       "      <th>type</th>\n",
       "      <th>title</th>\n",
       "      <th>director</th>\n",
       "      <th>cast</th>\n",
       "      <th>country</th>\n",
       "      <th>date_added</th>\n",
       "      <th>release_year</th>\n",
       "      <th>rating</th>\n",
       "      <th>duration</th>\n",
       "      <th>listed_in</th>\n",
       "      <th>description</th>\n",
       "    </tr>\n",
       "  </thead>\n",
       "  <tbody>\n",
       "    <tr>\n",
       "      <th>0</th>\n",
       "      <td>s1</td>\n",
       "      <td>TV Show</td>\n",
       "      <td>3%</td>\n",
       "      <td>NaN</td>\n",
       "      <td>João Miguel, Bianca Comparato, Michel Gomes, R...</td>\n",
       "      <td>Brazil</td>\n",
       "      <td>August 14, 2020</td>\n",
       "      <td>2020</td>\n",
       "      <td>TV-MA</td>\n",
       "      <td>4 Seasons</td>\n",
       "      <td>International TV Shows, TV Dramas, TV Sci-Fi &amp;...</td>\n",
       "      <td>In a future where the elite inhabit an island ...</td>\n",
       "    </tr>\n",
       "    <tr>\n",
       "      <th>1</th>\n",
       "      <td>s2</td>\n",
       "      <td>Movie</td>\n",
       "      <td>7:19</td>\n",
       "      <td>Jorge Michel Grau</td>\n",
       "      <td>Demián Bichir, Héctor Bonilla, Oscar Serrano, ...</td>\n",
       "      <td>Mexico</td>\n",
       "      <td>December 23, 2016</td>\n",
       "      <td>2016</td>\n",
       "      <td>TV-MA</td>\n",
       "      <td>93 min</td>\n",
       "      <td>Dramas, International Movies</td>\n",
       "      <td>After a devastating earthquake hits Mexico Cit...</td>\n",
       "    </tr>\n",
       "    <tr>\n",
       "      <th>2</th>\n",
       "      <td>s3</td>\n",
       "      <td>Movie</td>\n",
       "      <td>23:59</td>\n",
       "      <td>Gilbert Chan</td>\n",
       "      <td>Tedd Chan, Stella Chung, Henley Hii, Lawrence ...</td>\n",
       "      <td>Singapore</td>\n",
       "      <td>December 20, 2018</td>\n",
       "      <td>2011</td>\n",
       "      <td>R</td>\n",
       "      <td>78 min</td>\n",
       "      <td>Horror Movies, International Movies</td>\n",
       "      <td>When an army recruit is found dead, his fellow...</td>\n",
       "    </tr>\n",
       "    <tr>\n",
       "      <th>3</th>\n",
       "      <td>s4</td>\n",
       "      <td>Movie</td>\n",
       "      <td>9</td>\n",
       "      <td>Shane Acker</td>\n",
       "      <td>Elijah Wood, John C. Reilly, Jennifer Connelly...</td>\n",
       "      <td>United States</td>\n",
       "      <td>November 16, 2017</td>\n",
       "      <td>2009</td>\n",
       "      <td>PG-13</td>\n",
       "      <td>80 min</td>\n",
       "      <td>Action &amp; Adventure, Independent Movies, Sci-Fi...</td>\n",
       "      <td>In a postapocalyptic world, rag-doll robots hi...</td>\n",
       "    </tr>\n",
       "    <tr>\n",
       "      <th>4</th>\n",
       "      <td>s5</td>\n",
       "      <td>Movie</td>\n",
       "      <td>21</td>\n",
       "      <td>Robert Luketic</td>\n",
       "      <td>Jim Sturgess, Kevin Spacey, Kate Bosworth, Aar...</td>\n",
       "      <td>United States</td>\n",
       "      <td>January 1, 2020</td>\n",
       "      <td>2008</td>\n",
       "      <td>PG-13</td>\n",
       "      <td>123 min</td>\n",
       "      <td>Dramas</td>\n",
       "      <td>A brilliant group of students become card-coun...</td>\n",
       "    </tr>\n",
       "  </tbody>\n",
       "</table>\n",
       "</div>"
      ],
      "text/plain": [
       "  show_id     type  title           director  \\\n",
       "0      s1  TV Show     3%                NaN   \n",
       "1      s2    Movie   7:19  Jorge Michel Grau   \n",
       "2      s3    Movie  23:59       Gilbert Chan   \n",
       "3      s4    Movie      9        Shane Acker   \n",
       "4      s5    Movie     21     Robert Luketic   \n",
       "\n",
       "                                                cast        country  \\\n",
       "0  João Miguel, Bianca Comparato, Michel Gomes, R...         Brazil   \n",
       "1  Demián Bichir, Héctor Bonilla, Oscar Serrano, ...         Mexico   \n",
       "2  Tedd Chan, Stella Chung, Henley Hii, Lawrence ...      Singapore   \n",
       "3  Elijah Wood, John C. Reilly, Jennifer Connelly...  United States   \n",
       "4  Jim Sturgess, Kevin Spacey, Kate Bosworth, Aar...  United States   \n",
       "\n",
       "          date_added  release_year rating   duration  \\\n",
       "0    August 14, 2020          2020  TV-MA  4 Seasons   \n",
       "1  December 23, 2016          2016  TV-MA     93 min   \n",
       "2  December 20, 2018          2011      R     78 min   \n",
       "3  November 16, 2017          2009  PG-13     80 min   \n",
       "4    January 1, 2020          2008  PG-13    123 min   \n",
       "\n",
       "                                           listed_in  \\\n",
       "0  International TV Shows, TV Dramas, TV Sci-Fi &...   \n",
       "1                       Dramas, International Movies   \n",
       "2                Horror Movies, International Movies   \n",
       "3  Action & Adventure, Independent Movies, Sci-Fi...   \n",
       "4                                             Dramas   \n",
       "\n",
       "                                         description  \n",
       "0  In a future where the elite inhabit an island ...  \n",
       "1  After a devastating earthquake hits Mexico Cit...  \n",
       "2  When an army recruit is found dead, his fellow...  \n",
       "3  In a postapocalyptic world, rag-doll robots hi...  \n",
       "4  A brilliant group of students become card-coun...  "
      ]
     },
     "execution_count": 138,
     "metadata": {},
     "output_type": "execute_result"
    }
   ],
   "source": [
    "df = pd.read_csv('netflix_titles.csv')\n",
    "df.head(5)"
   ]
  },
  {
   "cell_type": "code",
   "execution_count": 139,
   "metadata": {},
   "outputs": [
    {
     "data": {
      "text/plain": [
       "0                 Missing\n",
       "1       Jorge Michel Grau\n",
       "2            Gilbert Chan\n",
       "3             Shane Acker\n",
       "4          Robert Luketic\n",
       "              ...        \n",
       "7782          Josef Fares\n",
       "7783          Mozez Singh\n",
       "7784              Missing\n",
       "7785              Missing\n",
       "7786             Sam Dunn\n",
       "Name: director, Length: 7787, dtype: object"
      ]
     },
     "execution_count": 139,
     "metadata": {},
     "output_type": "execute_result"
    }
   ],
   "source": [
    "df['type'].fillna('Missing')\n",
    "df['title'].fillna('Missing')\n",
    "df['director'].fillna('Missing')"
   ]
  },
  {
   "cell_type": "code",
   "execution_count": 140,
   "metadata": {},
   "outputs": [
    {
     "data": {
      "text/plain": [
       "count      7787\n",
       "unique        2\n",
       "top       Movie\n",
       "freq       5377\n",
       "Name: type, dtype: object"
      ]
     },
     "execution_count": 140,
     "metadata": {},
     "output_type": "execute_result"
    }
   ],
   "source": [
    "df.type.describe()"
   ]
  },
  {
   "cell_type": "code",
   "execution_count": 141,
   "metadata": {},
   "outputs": [
    {
     "data": {
      "text/plain": [
       "Movie      5377\n",
       "TV Show    2410\n",
       "Name: type, dtype: int64"
      ]
     },
     "execution_count": 141,
     "metadata": {},
     "output_type": "execute_result"
    }
   ],
   "source": [
    "type_counts = df['type'].value_counts()\n",
    "type_counts"
   ]
  },
  {
   "cell_type": "code",
   "execution_count": 34,
   "metadata": {},
   "outputs": [
    {
     "data": {
      "text/plain": [
       "<AxesSubplot:>"
      ]
     },
     "execution_count": 34,
     "metadata": {},
     "output_type": "execute_result"
    },
    {
     "data": {
      "image/png": "[encoded data removed]",
      "text/plain": [
       "<Figure size 432x288 with 1 Axes>"
      ]
     },
     "metadata": {
      "needs_background": "light"
     },
     "output_type": "display_data"
    }
   ],
   "source": [
    "type_counts.plot(kind='barh', rot=0)"
   ]
  },
  {
   "cell_type": "code",
   "execution_count": 142,
   "metadata": {},
   "outputs": [
    {
     "data": {
      "text/plain": [
       "count                       5398\n",
       "unique                      4049\n",
       "top       Raúl Campos, Jan Suter\n",
       "freq                          18\n",
       "Name: director, dtype: object"
      ]
     },
     "execution_count": 142,
     "metadata": {},
     "output_type": "execute_result"
    }
   ],
   "source": [
    "df.director.describe()"
   ]
  },
  {
   "cell_type": "code",
   "execution_count": 143,
   "metadata": {},
   "outputs": [
    {
     "data": {
      "text/plain": [
       "Raúl Campos, Jan Suter    18\n",
       "Marcus Raboy              16\n",
       "Jay Karas                 14\n",
       "Cathy Garcia-Molina       13\n",
       "Youssef Chahine           12\n",
       "                          ..\n",
       "Kyle Patrick Alvarez       1\n",
       "James Haslam               1\n",
       "Byun Hyuk                  1\n",
       "Sooni Taraporevala         1\n",
       "Adam Wingard               1\n",
       "Name: director, Length: 4049, dtype: int64"
      ]
     },
     "execution_count": 143,
     "metadata": {},
     "output_type": "execute_result"
    }
   ],
   "source": [
    "director_counts = df['director'].value_counts()\n",
    "director_counts"
   ]
  },
  {
   "cell_type": "code",
   "execution_count": 41,
   "metadata": {},
   "outputs": [
    {
     "data": {
      "text/plain": [
       "<AxesSubplot:>"
      ]
     },
     "execution_count": 41,
     "metadata": {},
     "output_type": "execute_result"
    },
    {
     "data": {
      "image/png": "[encoded data removed]",
      "text/plain": [
       "<Figure size 432x288 with 1 Axes>"
      ]
     },
     "metadata": {
      "needs_background": "light"
     },
     "output_type": "display_data"
    }
   ],
   "source": [
    "director_counts[:10].plot(kind='barh', rot=0)"
   ]
  },
  {
   "cell_type": "markdown",
   "metadata": {},
   "source": [
    "Let's see who's in the most titles."
   ]
  },
  {
   "cell_type": "code",
   "execution_count": 144,
   "metadata": {},
   "outputs": [
    {
     "data": {
      "text/plain": [
       "count           55955\n",
       "unique          32881\n",
       "top       Anupam Kher\n",
       "freq               42\n",
       "dtype: object"
      ]
     },
     "execution_count": 144,
     "metadata": {},
     "output_type": "execute_result"
    }
   ],
   "source": [
    "ccast = Series(flatten_list([x.split(', ') for x in df.cast.dropna()]))\n",
    "ccast.describe()"
   ]
  },
  {
   "cell_type": "code",
   "execution_count": 145,
   "metadata": {},
   "outputs": [
    {
     "data": {
      "text/plain": [
       "count              7280\n",
       "unique              681\n",
       "top       United States\n",
       "freq               2555\n",
       "Name: country, dtype: object"
      ]
     },
     "execution_count": 145,
     "metadata": {},
     "output_type": "execute_result"
    }
   ],
   "source": [
    "df.country.describe()"
   ]
  },
  {
   "cell_type": "code",
   "execution_count": 146,
   "metadata": {},
   "outputs": [
    {
     "data": {
      "text/plain": [
       "United States                                                  2555\n",
       "India                                                           923\n",
       "United Kingdom                                                  397\n",
       "Japan                                                           226\n",
       "South Korea                                                     183\n",
       "                                                               ... \n",
       "France, Belgium, Luxembourg, Romania, Canada, United States       1\n",
       "Norway, United States                                             1\n",
       "Brazil, India, China, United States                               1\n",
       "Argentina, France                                                 1\n",
       "Denmark, Singapore, Canada, United States                         1\n",
       "Name: country, Length: 681, dtype: int64"
      ]
     },
     "execution_count": 146,
     "metadata": {},
     "output_type": "execute_result"
    }
   ],
   "source": [
    "country_counts = df['country'].value_counts()\n",
    "country_counts"
   ]
  },
  {
   "cell_type": "markdown",
   "metadata": {},
   "source": [
    "Looks like we have a couple of titles where countries collaborated, that are bunched together as comma separated lists. Let's clean that."
   ]
  },
  {
   "cell_type": "code",
   "execution_count": 147,
   "metadata": {},
   "outputs": [
    {
     "data": {
      "text/plain": [
       "count              9063\n",
       "unique              121\n",
       "top       United States\n",
       "freq               3296\n",
       "dtype: object"
      ]
     },
     "execution_count": 147,
     "metadata": {},
     "output_type": "execute_result"
    }
   ],
   "source": [
    "countries_clean = Series(flatten_list([x.split(', ') for x in df.country.dropna()]))\n",
    "countries_clean.describe()"
   ]
  },
  {
   "cell_type": "markdown",
   "metadata": {},
   "source": [
    "Looks like a couple thousand entries were bunched up. Let's see if it made a difference."
   ]
  },
  {
   "cell_type": "code",
   "execution_count": 148,
   "metadata": {},
   "outputs": [
    {
     "data": {
      "text/plain": [
       "United States         3296\n",
       "India                  990\n",
       "United Kingdom         722\n",
       "Canada                 412\n",
       "France                 349\n",
       "                      ... \n",
       "Somalia                  1\n",
       "Sudan                    1\n",
       "Sri Lanka                1\n",
       "Dominican Republic       1\n",
       "Mauritius                1\n",
       "Length: 121, dtype: int64"
      ]
     },
     "execution_count": 148,
     "metadata": {},
     "output_type": "execute_result"
    }
   ],
   "source": [
    "clean_country_counts = countries_clean.value_counts()\n",
    "clean_country_counts"
   ]
  },
  {
   "cell_type": "code",
   "execution_count": 149,
   "metadata": {},
   "outputs": [
    {
     "data": {
      "text/plain": [
       "<AxesSubplot:>"
      ]
     },
     "execution_count": 149,
     "metadata": {},
     "output_type": "execute_result"
    },
    {
     "data": {
      "image/png": "[encoded data removed]",
      "text/plain": [
       "<Figure size 432x288 with 1 Axes>"
      ]
     },
     "metadata": {
      "needs_background": "light"
     },
     "output_type": "display_data"
    }
   ],
   "source": [
    "country_counts[:10].plot(kind='barh', rot=0)"
   ]
  },
  {
   "cell_type": "code",
   "execution_count": 150,
   "metadata": {},
   "outputs": [
    {
     "data": {
      "text/plain": [
       "<AxesSubplot:>"
      ]
     },
     "execution_count": 150,
     "metadata": {},
     "output_type": "execute_result"
    },
    {
     "data": {
      "image/png": "[encoded data removed]",
      "text/plain": [
       "<Figure size 432x288 with 1 Axes>"
      ]
     },
     "metadata": {
      "needs_background": "light"
     },
     "output_type": "display_data"
    }
   ],
   "source": [
    "clean_country_counts[:10].plot(kind='barh', rot=0)"
   ]
  },
  {
   "cell_type": "markdown",
   "metadata": {},
   "source": [
    "We can see the top 10s are significantly different. Countries like Canada and France jump ahead spots, while Germany and Mexico manage to make it into the top 10."
   ]
  },
  {
   "cell_type": "code",
   "execution_count": 84,
   "metadata": {},
   "outputs": [
    {
     "data": {
      "text/plain": [
       "count    7787.000000\n",
       "mean     2013.932580\n",
       "std         8.757395\n",
       "min      1925.000000\n",
       "25%      2013.000000\n",
       "50%      2017.000000\n",
       "75%      2018.000000\n",
       "max      2021.000000\n",
       "Name: release_year, dtype: float64"
      ]
     },
     "execution_count": 84,
     "metadata": {},
     "output_type": "execute_result"
    }
   ],
   "source": [
    "data.release_year.describe()"
   ]
  },
  {
   "cell_type": "markdown",
   "metadata": {},
   "source": [
    "Interesting, half of Netflix titles were released after 2017."
   ]
  },
  {
   "cell_type": "code",
   "execution_count": 43,
   "metadata": {},
   "outputs": [
    {
     "data": {
      "text/plain": [
       "2018    1121\n",
       "2017    1012\n",
       "2019     996\n",
       "2016     882\n",
       "2020     868\n",
       "        ... \n",
       "1959       1\n",
       "1966       1\n",
       "1925       1\n",
       "1964       1\n",
       "1947       1\n",
       "Name: release_year, Length: 73, dtype: int64"
      ]
     },
     "execution_count": 43,
     "metadata": {},
     "output_type": "execute_result"
    }
   ],
   "source": [
    "release_year_counts = data['release_year'].value_counts()\n",
    "release_year_counts"
   ]
  },
  {
   "cell_type": "code",
   "execution_count": 44,
   "metadata": {},
   "outputs": [
    {
     "data": {
      "text/plain": [
       "<AxesSubplot:>"
      ]
     },
     "execution_count": 44,
     "metadata": {},
     "output_type": "execute_result"
    },
    {
     "data": {
      "image/png": "[encoded data removed]",
      "text/plain": [
       "<Figure size 432x288 with 1 Axes>"
      ]
     },
     "metadata": {
      "needs_background": "light"
     },
     "output_type": "display_data"
    }
   ],
   "source": [
    "release_year_counts[:10].plot(kind='barh', rot=0)"
   ]
  },
  {
   "cell_type": "markdown",
   "metadata": {},
   "source": [
    "Let's check the bottom 10."
   ]
  },
  {
   "cell_type": "code",
   "execution_count": 87,
   "metadata": {},
   "outputs": [
    {
     "data": {
      "text/plain": [
       "<AxesSubplot:>"
      ]
     },
     "execution_count": 87,
     "metadata": {},
     "output_type": "execute_result"
    },
    {
     "data": {
      "image/png": "[encoded data removed]",
      "text/plain": [
       "<Figure size 432x288 with 1 Axes>"
      ]
     },
     "metadata": {
      "needs_background": "light"
     },
     "output_type": "display_data"
    }
   ],
   "source": [
    "release_year_counts[-10:].plot(kind='barh', rot=0)"
   ]
  },
  {
   "cell_type": "code",
   "execution_count": 55,
   "metadata": {},
   "outputs": [
    {
     "data": {
      "text/plain": [
       "TV-MA       2863\n",
       "TV-14       1931\n",
       "TV-PG        806\n",
       "R            665\n",
       "PG-13        386\n",
       "TV-Y         280\n",
       "TV-Y7        271\n",
       "PG           247\n",
       "TV-G         194\n",
       "NR            84\n",
       "G             39\n",
       "TV-Y7-FV       6\n",
       "UR             5\n",
       "NC-17          3\n",
       "Name: rating, dtype: int64"
      ]
     },
     "execution_count": 55,
     "metadata": {},
     "output_type": "execute_result"
    }
   ],
   "source": [
    "rating_counts = data['rating'].value_counts()\n",
    "rating_counts"
   ]
  },
  {
   "cell_type": "code",
   "execution_count": 90,
   "metadata": {},
   "outputs": [
    {
     "data": {
      "text/plain": [
       "count      7780\n",
       "unique       14\n",
       "top       TV-MA\n",
       "freq       2863\n",
       "Name: rating, dtype: object"
      ]
     },
     "execution_count": 90,
     "metadata": {},
     "output_type": "execute_result"
    }
   ],
   "source": [
    "data.rating.describe()"
   ]
  },
  {
   "cell_type": "code",
   "execution_count": 56,
   "metadata": {},
   "outputs": [
    {
     "data": {
      "text/plain": [
       "<AxesSubplot:>"
      ]
     },
     "execution_count": 56,
     "metadata": {},
     "output_type": "execute_result"
    },
    {
     "data": {
      "image/png": "[encoded data removed]",
      "text/plain": [
       "<Figure size 432x288 with 1 Axes>"
      ]
     },
     "metadata": {
      "needs_background": "light"
     },
     "output_type": "display_data"
    }
   ],
   "source": [
    "rating_counts[:10].plot(kind='barh', rot=0)"
   ]
  },
  {
   "cell_type": "code",
   "execution_count": 132,
   "metadata": {},
   "outputs": [
    {
     "data": {
      "text/plain": [
       "International Movies        2437\n",
       "Dramas                      2106\n",
       "Comedies                    1471\n",
       "International TV Shows      1199\n",
       "Documentaries                786\n",
       "Action & Adventure           721\n",
       "TV Dramas                    704\n",
       "Independent Movies           673\n",
       "Children & Family Movies     532\n",
       "Romantic Movies              531\n",
       "dtype: int64"
      ]
     },
     "execution_count": 132,
     "metadata": {},
     "output_type": "execute_result"
    }
   ],
   "source": [
    "listed_in_clean = Series(flatten_list([x.split(', ') for x in data.listed_in.dropna()]))\n",
    "listed_in_counts = listed_in_clean.value_counts()\n",
    "listed_in_counts[:10]"
   ]
  },
  {
   "cell_type": "code",
   "execution_count": 117,
   "metadata": {},
   "outputs": [
    {
     "data": {
      "text/plain": [
       "count                    17071\n",
       "unique                      42\n",
       "top       International Movies\n",
       "freq                      2437\n",
       "dtype: object"
      ]
     },
     "execution_count": 117,
     "metadata": {},
     "output_type": "execute_result"
    }
   ],
   "source": [
    "listed_in_clean.describe()"
   ]
  },
  {
   "cell_type": "code",
   "execution_count": 133,
   "metadata": {},
   "outputs": [
    {
     "data": {
      "text/plain": [
       "<AxesSubplot:>"
      ]
     },
     "execution_count": 133,
     "metadata": {},
     "output_type": "execute_result"
    },
    {
     "data": {
      "image/png": "[encoded data removed]",
      "text/plain": [
       "<Figure size 432x288 with 1 Axes>"
      ]
     },
     "metadata": {
      "needs_background": "light"
     },
     "output_type": "display_data"
    }
   ],
   "source": [
    "listed_in_counts[:10].plot(kind='barh', rot=0)"
   ]
  },
  {
   "cell_type": "markdown",
   "metadata": {},
   "source": [
    "What are the least common listings on Netflix?"
   ]
  },
  {
   "cell_type": "code",
   "execution_count": 134,
   "metadata": {},
   "outputs": [
    {
     "data": {
      "text/plain": [
       "<AxesSubplot:>"
      ]
     },
     "execution_count": 134,
     "metadata": {},
     "output_type": "execute_result"
    },
    {
     "data": {
      "image/png": "[encoded data removed]",
      "text/plain": [
       "<Figure size 432x288 with 1 Axes>"
      ]
     },
     "metadata": {
      "needs_background": "light"
     },
     "output_type": "display_data"
    }
   ],
   "source": [
    "listed_in_counts[-10:].plot(kind='barh', rot=0)"
   ]
  },
  {
   "cell_type": "markdown",
   "metadata": {},
   "source": [
    "Let's look at the 10 oldest titles."
   ]
  },
  {
   "cell_type": "code",
   "execution_count": 136,
   "metadata": {},
   "outputs": [
    {
     "data": {
      "text/html": [
       "<div>\n",
       "<style scoped>\n",
       "    .dataframe tbody tr th:only-of-type {\n",
       "        vertical-align: middle;\n",
       "    }\n",
       "\n",
       "    .dataframe tbody tr th {\n",
       "        vertical-align: top;\n",
       "    }\n",
       "\n",
       "    .dataframe thead th {\n",
       "        text-align: right;\n",
       "    }\n",
       "</style>\n",
       "<table border=\"1\" class=\"dataframe\">\n",
       "  <thead>\n",
       "    <tr style=\"text-align: right;\">\n",
       "      <th></th>\n",
       "      <th>show_id</th>\n",
       "      <th>type</th>\n",
       "      <th>title</th>\n",
       "      <th>director</th>\n",
       "      <th>cast</th>\n",
       "      <th>country</th>\n",
       "      <th>date_added</th>\n",
       "      <th>release_year</th>\n",
       "      <th>rating</th>\n",
       "      <th>duration</th>\n",
       "      <th>listed_in</th>\n",
       "      <th>description</th>\n",
       "    </tr>\n",
       "  </thead>\n",
       "  <tbody>\n",
       "    <tr>\n",
       "      <th>4867</th>\n",
       "      <td>s4868</td>\n",
       "      <td>TV Show</td>\n",
       "      <td>Pioneers: First Women Filmmakers*</td>\n",
       "      <td>NaN</td>\n",
       "      <td>NaN</td>\n",
       "      <td>NaN</td>\n",
       "      <td>December 30, 2018</td>\n",
       "      <td>1925</td>\n",
       "      <td>TV-14</td>\n",
       "      <td>1 Season</td>\n",
       "      <td>TV Shows</td>\n",
       "      <td>This collection restores films from women who ...</td>\n",
       "    </tr>\n",
       "    <tr>\n",
       "      <th>6117</th>\n",
       "      <td>s6118</td>\n",
       "      <td>Movie</td>\n",
       "      <td>The Battle of Midway</td>\n",
       "      <td>John Ford</td>\n",
       "      <td>Henry Fonda, Jane Darwell</td>\n",
       "      <td>United States</td>\n",
       "      <td>March 31, 2017</td>\n",
       "      <td>1942</td>\n",
       "      <td>TV-14</td>\n",
       "      <td>18 min</td>\n",
       "      <td>Classic Movies, Documentaries</td>\n",
       "      <td>Director John Ford captures combat footage of ...</td>\n",
       "    </tr>\n",
       "    <tr>\n",
       "      <th>4960</th>\n",
       "      <td>s4961</td>\n",
       "      <td>Movie</td>\n",
       "      <td>Prelude to War</td>\n",
       "      <td>Frank Capra</td>\n",
       "      <td>NaN</td>\n",
       "      <td>United States</td>\n",
       "      <td>March 31, 2017</td>\n",
       "      <td>1942</td>\n",
       "      <td>TV-14</td>\n",
       "      <td>52 min</td>\n",
       "      <td>Classic Movies, Documentaries</td>\n",
       "      <td>Frank Capra's documentary chronicles the rise ...</td>\n",
       "    </tr>\n",
       "    <tr>\n",
       "      <th>7679</th>\n",
       "      <td>s7680</td>\n",
       "      <td>Movie</td>\n",
       "      <td>WWII: Report from the Aleutians</td>\n",
       "      <td>John Huston</td>\n",
       "      <td>NaN</td>\n",
       "      <td>United States</td>\n",
       "      <td>March 31, 2017</td>\n",
       "      <td>1943</td>\n",
       "      <td>TV-PG</td>\n",
       "      <td>45 min</td>\n",
       "      <td>Documentaries</td>\n",
       "      <td>Filmmaker John Huston narrates this Oscar-nomi...</td>\n",
       "    </tr>\n",
       "    <tr>\n",
       "      <th>7342</th>\n",
       "      <td>s7343</td>\n",
       "      <td>Movie</td>\n",
       "      <td>Undercover: How to Operate Behind Enemy Lines</td>\n",
       "      <td>John Ford</td>\n",
       "      <td>NaN</td>\n",
       "      <td>United States</td>\n",
       "      <td>March 31, 2017</td>\n",
       "      <td>1943</td>\n",
       "      <td>TV-PG</td>\n",
       "      <td>61 min</td>\n",
       "      <td>Classic Movies, Documentaries</td>\n",
       "      <td>This World War II-era training film dramatizes...</td>\n",
       "    </tr>\n",
       "    <tr>\n",
       "      <th>7616</th>\n",
       "      <td>s7617</td>\n",
       "      <td>Movie</td>\n",
       "      <td>Why We Fight: The Battle of Russia</td>\n",
       "      <td>Frank Capra, Anatole Litvak</td>\n",
       "      <td>NaN</td>\n",
       "      <td>United States</td>\n",
       "      <td>March 31, 2017</td>\n",
       "      <td>1943</td>\n",
       "      <td>TV-PG</td>\n",
       "      <td>82 min</td>\n",
       "      <td>Documentaries</td>\n",
       "      <td>This installment of Frank Capra's acclaimed do...</td>\n",
       "    </tr>\n",
       "    <tr>\n",
       "      <th>7268</th>\n",
       "      <td>s7269</td>\n",
       "      <td>Movie</td>\n",
       "      <td>Tunisian Victory</td>\n",
       "      <td>Frank Capra, John Huston, Hugh Stewart, Roy Bo...</td>\n",
       "      <td>Burgess Meredith</td>\n",
       "      <td>United States, United Kingdom</td>\n",
       "      <td>March 31, 2017</td>\n",
       "      <td>1944</td>\n",
       "      <td>TV-14</td>\n",
       "      <td>76 min</td>\n",
       "      <td>Classic Movies, Documentaries</td>\n",
       "      <td>British and American troops join forces to lib...</td>\n",
       "    </tr>\n",
       "    <tr>\n",
       "      <th>6699</th>\n",
       "      <td>s6700</td>\n",
       "      <td>Movie</td>\n",
       "      <td>The Negro Soldier</td>\n",
       "      <td>Stuart Heisler</td>\n",
       "      <td>NaN</td>\n",
       "      <td>United States</td>\n",
       "      <td>March 31, 2017</td>\n",
       "      <td>1944</td>\n",
       "      <td>TV-14</td>\n",
       "      <td>40 min</td>\n",
       "      <td>Classic Movies, Documentaries</td>\n",
       "      <td>This documentary urged African Americans to en...</td>\n",
       "    </tr>\n",
       "    <tr>\n",
       "      <th>6657</th>\n",
       "      <td>s6658</td>\n",
       "      <td>Movie</td>\n",
       "      <td>The Memphis Belle: A Story of a\\nFlying Fortress</td>\n",
       "      <td>William Wyler</td>\n",
       "      <td>NaN</td>\n",
       "      <td>United States</td>\n",
       "      <td>March 31, 2017</td>\n",
       "      <td>1944</td>\n",
       "      <td>TV-PG</td>\n",
       "      <td>40 min</td>\n",
       "      <td>Classic Movies, Documentaries</td>\n",
       "      <td>This documentary centers on the crew of the B-...</td>\n",
       "    </tr>\n",
       "    <tr>\n",
       "      <th>5371</th>\n",
       "      <td>s5372</td>\n",
       "      <td>Movie</td>\n",
       "      <td>San Pietro</td>\n",
       "      <td>John Huston</td>\n",
       "      <td>NaN</td>\n",
       "      <td>United States</td>\n",
       "      <td>March 31, 2017</td>\n",
       "      <td>1945</td>\n",
       "      <td>TV-14</td>\n",
       "      <td>32 min</td>\n",
       "      <td>Classic Movies, Documentaries</td>\n",
       "      <td>After the Allies invade Italy, the Liri Valley...</td>\n",
       "    </tr>\n",
       "  </tbody>\n",
       "</table>\n",
       "</div>"
      ],
      "text/plain": [
       "     show_id     type                                             title  \\\n",
       "4867   s4868  TV Show                 Pioneers: First Women Filmmakers*   \n",
       "6117   s6118    Movie                              The Battle of Midway   \n",
       "4960   s4961    Movie                                    Prelude to War   \n",
       "7679   s7680    Movie                   WWII: Report from the Aleutians   \n",
       "7342   s7343    Movie     Undercover: How to Operate Behind Enemy Lines   \n",
       "7616   s7617    Movie                Why We Fight: The Battle of Russia   \n",
       "7268   s7269    Movie                                  Tunisian Victory   \n",
       "6699   s6700    Movie                                 The Negro Soldier   \n",
       "6657   s6658    Movie  The Memphis Belle: A Story of a\\nFlying Fortress   \n",
       "5371   s5372    Movie                                        San Pietro   \n",
       "\n",
       "                                               director  \\\n",
       "4867                                                NaN   \n",
       "6117                                          John Ford   \n",
       "4960                                        Frank Capra   \n",
       "7679                                        John Huston   \n",
       "7342                                          John Ford   \n",
       "7616                        Frank Capra, Anatole Litvak   \n",
       "7268  Frank Capra, John Huston, Hugh Stewart, Roy Bo...   \n",
       "6699                                     Stuart Heisler   \n",
       "6657                                      William Wyler   \n",
       "5371                                        John Huston   \n",
       "\n",
       "                           cast                        country  \\\n",
       "4867                        NaN                            NaN   \n",
       "6117  Henry Fonda, Jane Darwell                  United States   \n",
       "4960                        NaN                  United States   \n",
       "7679                        NaN                  United States   \n",
       "7342                        NaN                  United States   \n",
       "7616                        NaN                  United States   \n",
       "7268           Burgess Meredith  United States, United Kingdom   \n",
       "6699                        NaN                  United States   \n",
       "6657                        NaN                  United States   \n",
       "5371                        NaN                  United States   \n",
       "\n",
       "             date_added  release_year rating  duration  \\\n",
       "4867  December 30, 2018          1925  TV-14  1 Season   \n",
       "6117     March 31, 2017          1942  TV-14    18 min   \n",
       "4960     March 31, 2017          1942  TV-14    52 min   \n",
       "7679     March 31, 2017          1943  TV-PG    45 min   \n",
       "7342     March 31, 2017          1943  TV-PG    61 min   \n",
       "7616     March 31, 2017          1943  TV-PG    82 min   \n",
       "7268     March 31, 2017          1944  TV-14    76 min   \n",
       "6699     March 31, 2017          1944  TV-14    40 min   \n",
       "6657     March 31, 2017          1944  TV-PG    40 min   \n",
       "5371     March 31, 2017          1945  TV-14    32 min   \n",
       "\n",
       "                          listed_in  \\\n",
       "4867                       TV Shows   \n",
       "6117  Classic Movies, Documentaries   \n",
       "4960  Classic Movies, Documentaries   \n",
       "7679                  Documentaries   \n",
       "7342  Classic Movies, Documentaries   \n",
       "7616                  Documentaries   \n",
       "7268  Classic Movies, Documentaries   \n",
       "6699  Classic Movies, Documentaries   \n",
       "6657  Classic Movies, Documentaries   \n",
       "5371  Classic Movies, Documentaries   \n",
       "\n",
       "                                            description  \n",
       "4867  This collection restores films from women who ...  \n",
       "6117  Director John Ford captures combat footage of ...  \n",
       "4960  Frank Capra's documentary chronicles the rise ...  \n",
       "7679  Filmmaker John Huston narrates this Oscar-nomi...  \n",
       "7342  This World War II-era training film dramatizes...  \n",
       "7616  This installment of Frank Capra's acclaimed do...  \n",
       "7268  British and American troops join forces to lib...  \n",
       "6699  This documentary urged African Americans to en...  \n",
       "6657  This documentary centers on the crew of the B-...  \n",
       "5371  After the Allies invade Italy, the Liri Valley...  "
      ]
     },
     "execution_count": 136,
     "metadata": {},
     "output_type": "execute_result"
    }
   ],
   "source": [
    "data.sort_values(by=\"release_year\")[:10]"
   ]
  },
  {
   "cell_type": "code",
   "execution_count": null,
   "metadata": {},
   "outputs": [],
   "source": []
  }
 ],
 "metadata": {
  "kernelspec": {
   "display_name": "Python 3",
   "language": "python",
   "name": "python3"
  },
  "language_info": {
   "codemirror_mode": {
    "name": "ipython",
    "version": 3
   },
   "file_extension": ".py",
   "mimetype": "text/x-python",
   "name": "python",
   "nbconvert_exporter": "python",
   "pygments_lexer": "ipython3",
   "version": "3.8.8"
  }
 },
 "nbformat": 4,
 "nbformat_minor": 4
}
